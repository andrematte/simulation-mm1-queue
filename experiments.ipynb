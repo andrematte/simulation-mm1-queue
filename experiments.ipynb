{
 "cells": [
  {
   "cell_type": "markdown",
   "metadata": {},
   "source": [
    "# PPGEE0260: Modelagem e Simulação Discreta de Sistemas\n",
    "\n",
    "Aluno: Carlos André de Mattos Teixeira\n",
    "\n",
    "Código baseado em: https://github.com/williewheeler/stats-demos/blob/master/queueing/single-queue-sim.ipynb "
   ]
  },
  {
   "cell_type": "markdown",
   "metadata": {},
   "source": [
    "\n",
    "## Descrição\n",
    "Objetivo: Adicionar dois novos eventos no simulador de fila M/M/1.\n",
    "\n",
    "**Requisitos:**\n",
    "\n",
    "1. Um programa executável e todos os arquivos necessários à sua execução;\n",
    "2. Um relatório contendo toda a documentação do programa (variáveis, parâmetros, rotinas, fluxogramas das rotinas, etc.);\n",
    "3. Um pequeno manual sobre como executar o programa e constando a modelagem do sistema.\n",
    "\n",
    "**Método de Avaliação:**\n",
    "\n",
    "O seu simulador será avaliado com base nos seguintes critérios e (pesos):\n",
    "\n",
    "1. Funcionamento de acordo com o solicitado. Isto é, o modelo executado deve ter um comportamento (observável) semelhante ao descrito no escopo desta proposta\n",
    "2. Implementação de funções aleatórias. Pelo menos as funções: Uniforme, Triangular, Normal e Exponencial. Além da alternativa de uso de um valor constante\n",
    "3. Interface com o usuário (entrada de dados, visualização dos resultados)\n",
    "4. Resultados dos experimentos\n",
    "5. Documentação"
   ]
  },
  {
   "cell_type": "markdown",
   "metadata": {},
   "source": [
    "## Set-up do Projeto"
   ]
  },
  {
   "cell_type": "code",
   "execution_count": 13,
   "metadata": {},
   "outputs": [
    {
     "name": "stdout",
     "output_type": "stream",
     "text": [
      "The autoreload extension is already loaded. To reload it, use:\n",
      "  %reload_ext autoreload\n"
     ]
    }
   ],
   "source": [
    "# Recarregar módulos automaticamente\n",
    "%load_ext autoreload\n",
    "%autoreload 2\n",
    "\n",
    "# Importar bibliotecas\n",
    "import numpy as np\n",
    "import pandas as pd\n",
    "import random as rd\n",
    "import matplotlib.pyplot as plt\n",
    "    \n",
    "from source import *\n",
    "from settings import *"
   ]
  },
  {
   "cell_type": "code",
   "execution_count": 18,
   "metadata": {},
   "outputs": [
    {
     "name": "stdout",
     "output_type": "stream",
     "text": [
      "      interarrival_time  arrive_time  service_time  start_time  depart_time  \\\n",
      "0              0.010541     0.010541      0.013210    0.010541     0.023751   \n",
      "1              0.019038     0.029580      0.040016    0.029580     0.069595   \n",
      "2              0.007841     0.037421      0.019602    0.069595     0.089197   \n",
      "3              0.052617     0.090038      0.000008    0.090038     0.090046   \n",
      "4              0.151905     0.241943      0.090058    0.241943     0.332001   \n",
      "...                 ...          ...           ...         ...          ...   \n",
      "3995           0.084483   286.618945      0.022006  286.618945   286.640951   \n",
      "3996           0.046258   286.665203      0.099173  286.665203   286.764376   \n",
      "3997           0.040794   286.705997      0.013896  286.764376   286.778272   \n",
      "3998           0.160977   286.866974      0.040238  286.866974   286.907212   \n",
      "3999           0.034762   286.901736      0.107998  286.907212   287.015210   \n",
      "\n",
      "      response_time  wait_time  \n",
      "0          0.013210   0.000000  \n",
      "1          0.040016   0.000000  \n",
      "2          0.051777   0.032175  \n",
      "3          0.000008   0.000000  \n",
      "4          0.090058   0.000000  \n",
      "...             ...        ...  \n",
      "3995       0.022006   0.000000  \n",
      "3996       0.099173   0.000000  \n",
      "3997       0.072275   0.058379  \n",
      "3998       0.040238   0.000000  \n",
      "3999       0.113473   0.005475  \n",
      "\n",
      "[4000 rows x 7 columns]\n"
     ]
    }
   ],
   "source": [
    "run_sim_and_plot()"
   ]
  },
  {
   "cell_type": "code",
   "execution_count": null,
   "metadata": {},
   "outputs": [],
   "source": []
  }
 ],
 "metadata": {
  "interpreter": {
   "hash": "7812ea015bdcee6f23a998adcdd2ef97c151c0c241b7b7070987d9313e41299d"
  },
  "kernelspec": {
   "display_name": "Python 3.9.7 64-bit",
   "name": "python3"
  },
  "language_info": {
   "codemirror_mode": {
    "name": "ipython",
    "version": 3
   },
   "file_extension": ".py",
   "mimetype": "text/x-python",
   "name": "python",
   "nbconvert_exporter": "python",
   "pygments_lexer": "ipython3",
   "version": "3.9.7"
  },
  "orig_nbformat": 4
 },
 "nbformat": 4,
 "nbformat_minor": 2
}
